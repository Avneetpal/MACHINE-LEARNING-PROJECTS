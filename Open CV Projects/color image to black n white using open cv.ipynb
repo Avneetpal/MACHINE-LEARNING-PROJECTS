{
 "cells": [
  {
   "cell_type": "code",
   "execution_count": 2,
   "id": "ffb7f773",
   "metadata": {},
   "outputs": [],
   "source": [
    "import cv2"
   ]
  },
  {
   "cell_type": "code",
   "execution_count": 4,
   "id": "9553600a",
   "metadata": {},
   "outputs": [],
   "source": [
    "img1 = cv2.imread('C:\\\\Users\\\\Lenovo\\\\Documents\\\\Summer internship\\\\Open CV Projects\\\\Images\\\\Nature_HD_pictures.jpg',1)  \n",
    "img1 = cv2.resize(img1,(1280,700))#width ,height\n",
    "cv2.imshow(\"Colored Image\",img1)  #It accept two parameters 1)- Name of screen ,2) -  Image\n",
    "#print(\"Give image with color==\\n\",img1)\n",
    "\n",
    "#cv2.IMREAD_GRAYSCALE : Loads image in grayscale mode\n",
    "img2 = cv2.imread('C:\\\\Users\\\\Lenovo\\\\Documents\\\\Summer internship\\\\Open CV Projects\\\\Images\\\\Nature_HD_pictures.jpg',0)\n",
    "img2 = cv2.resize(img2,(1280,700))#width ,height\n",
    "cv2.imshow(\"Gray Scale Image\",img2)\n",
    "#print(\"Image in gray scale==\\n\",img2)\n"
   ]
  },
  {
   "cell_type": "code",
   "execution_count": null,
   "id": "38461f71",
   "metadata": {},
   "outputs": [],
   "source": []
  },
  {
   "cell_type": "code",
   "execution_count": null,
   "id": "2cb4dc9d",
   "metadata": {},
   "outputs": [],
   "source": []
  }
 ],
 "metadata": {
  "kernelspec": {
   "display_name": "Python 3 (ipykernel)",
   "language": "python",
   "name": "python3"
  },
  "language_info": {
   "codemirror_mode": {
    "name": "ipython",
    "version": 3
   },
   "file_extension": ".py",
   "mimetype": "text/x-python",
   "name": "python",
   "nbconvert_exporter": "python",
   "pygments_lexer": "ipython3",
   "version": "3.11.5"
  }
 },
 "nbformat": 4,
 "nbformat_minor": 5
}
