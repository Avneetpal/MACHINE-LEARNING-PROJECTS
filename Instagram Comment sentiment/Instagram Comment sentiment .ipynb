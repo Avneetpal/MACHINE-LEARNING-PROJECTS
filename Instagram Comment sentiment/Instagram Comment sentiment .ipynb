{
 "cells": [
  {
   "cell_type": "code",
   "execution_count": 18,
   "id": "eac99aa3",
   "metadata": {},
   "outputs": [],
   "source": [
    "#!pip install instaloader\n"
   ]
  },
  {
   "cell_type": "code",
   "execution_count": 2,
   "id": "44c56343",
   "metadata": {},
   "outputs": [],
   "source": [
    "import instaloader\n"
   ]
  },
  {
   "cell_type": "code",
   "execution_count": 3,
   "id": "dc115266",
   "metadata": {},
   "outputs": [],
   "source": [
    "L = instaloader.Instaloader()\n"
   ]
  },
  {
   "cell_type": "code",
   "execution_count": 1,
   "id": "6d432b60",
   "metadata": {},
   "outputs": [
    {
     "name": "stdout",
     "output_type": "stream",
     "text": [
      "                                            comments\n",
      "0                                              😂😂😂😂😂\n",
      "1                                                😂😂😂\n",
      "2                                                   \n",
      "3  Playing with children's is not child's play 😆😆😆😆😆\n",
      "4         Oo my god 😂😂😂😂😂😂😂😂😂😂😂😂😂😂😂😂😂😂😂😂😂😂😂😂😂😂😂😂😂😂😂😂\n"
     ]
    }
   ],
   "source": [
    "import instaloader\n",
    "import pandas as pd\n",
    "\n",
    "L = instaloader.Instaloader()\n",
    "\n",
    "\n",
    "USER = 'moneyheist6_7'\n",
    "PASSWORD = '@avneet'\n",
    "L.login(USER, PASSWORD)\n",
    "\n",
    "shortcode = 'C7Ise5PyBcT'  \n",
    "post = instaloader.Post.from_shortcode(L.context, shortcode)\n",
    "\n",
    "comments = []\n",
    "\n",
    "for comment in post.get_comments():\n",
    "    comments.append(comment.text)\n",
    "    \n",
    "data = pd.DataFrame(comments, columns=['comments'])\n",
    "\n",
    "print(data.head())\n"
   ]
  },
  {
   "cell_type": "code",
   "execution_count": 2,
   "id": "db5e2dd0",
   "metadata": {},
   "outputs": [],
   "source": [
    "from textblob import TextBlob"
   ]
  },
  {
   "cell_type": "code",
   "execution_count": 3,
   "id": "15d7e223",
   "metadata": {},
   "outputs": [],
   "source": [
    "def textblob_sentiment_analysis (review): \n",
    "    sentiment = TextBlob (review).sentiment \n",
    "    if sentiment.polarity > 0.1 : \n",
    "        return 'Positive'\n",
    "    elif sentiment.polarity<-0.1:\n",
    "        return 'Negative'\n",
    "    else:\n",
    "        return 'Neutral'"
   ]
  },
  {
   "cell_type": "code",
   "execution_count": 4,
   "id": "b49c5dc2",
   "metadata": {},
   "outputs": [],
   "source": [
    "data['Sentiment']=data['comments'].apply(textblob_sentiment_analysis)"
   ]
  },
  {
   "cell_type": "code",
   "execution_count": 5,
   "id": "fe455357",
   "metadata": {},
   "outputs": [
    {
     "data": {
      "text/html": [
       "<div>\n",
       "<style scoped>\n",
       "    .dataframe tbody tr th:only-of-type {\n",
       "        vertical-align: middle;\n",
       "    }\n",
       "\n",
       "    .dataframe tbody tr th {\n",
       "        vertical-align: top;\n",
       "    }\n",
       "\n",
       "    .dataframe thead th {\n",
       "        text-align: right;\n",
       "    }\n",
       "</style>\n",
       "<table border=\"1\" class=\"dataframe\">\n",
       "  <thead>\n",
       "    <tr style=\"text-align: right;\">\n",
       "      <th></th>\n",
       "      <th>comments</th>\n",
       "      <th>Sentiment</th>\n",
       "    </tr>\n",
       "  </thead>\n",
       "  <tbody>\n",
       "    <tr>\n",
       "      <th>14</th>\n",
       "      <td>😂😂</td>\n",
       "      <td>Neutral</td>\n",
       "    </tr>\n",
       "    <tr>\n",
       "      <th>7</th>\n",
       "      <td>Shadi se nahi aisi aulaad se dar lagta hain sh...</td>\n",
       "      <td>Neutral</td>\n",
       "    </tr>\n",
       "    <tr>\n",
       "      <th>32</th>\n",
       "      <td>Headbutt though 🙌😂</td>\n",
       "      <td>Neutral</td>\n",
       "    </tr>\n",
       "    <tr>\n",
       "      <th>5</th>\n",
       "      <td>Best condom advertisement 😂</td>\n",
       "      <td>Positive</td>\n",
       "    </tr>\n",
       "    <tr>\n",
       "      <th>1</th>\n",
       "      <td>😂😂😂</td>\n",
       "      <td>Neutral</td>\n",
       "    </tr>\n",
       "  </tbody>\n",
       "</table>\n",
       "</div>"
      ],
      "text/plain": [
       "                                             comments Sentiment\n",
       "14                                                 😂😂   Neutral\n",
       "7   Shadi se nahi aisi aulaad se dar lagta hain sh...   Neutral\n",
       "32                                 Headbutt though 🙌😂   Neutral\n",
       "5                         Best condom advertisement 😂  Positive\n",
       "1                                                 😂😂😂   Neutral"
      ]
     },
     "execution_count": 5,
     "metadata": {},
     "output_type": "execute_result"
    }
   ],
   "source": [
    "data.sample(5)"
   ]
  },
  {
   "cell_type": "code",
   "execution_count": 6,
   "id": "5b00c0c6",
   "metadata": {},
   "outputs": [
    {
     "data": {
      "text/plain": [
       "Neutral     31\n",
       "Negative     2\n",
       "Positive     1\n",
       "Name: Sentiment, dtype: int64"
      ]
     },
     "execution_count": 6,
     "metadata": {},
     "output_type": "execute_result"
    }
   ],
   "source": [
    "sentiment_distribution=data['Sentiment'].value_counts()\n",
    "sentiment_distribution"
   ]
  },
  {
   "cell_type": "code",
   "execution_count": 7,
   "id": "d7d9e90c",
   "metadata": {},
   "outputs": [],
   "source": [
    "import matplotlib.pyplot as plt\n",
    "import seaborn as sns"
   ]
  },
  {
   "cell_type": "code",
   "execution_count": 8,
   "id": "a0a097aa",
   "metadata": {},
   "outputs": [
    {
     "data": {
      "text/plain": [
       "Text(0, 0.5, 'Count')"
      ]
     },
     "execution_count": 8,
     "metadata": {},
     "output_type": "execute_result"
    },
    {
     "data": {
      "image/png": "[encoded data removed]",
      "text/plain": [
       "<Figure size 900x500 with 1 Axes>"
      ]
     },
     "metadata": {},
     "output_type": "display_data"
    }
   ],
   "source": [
    "plt.figure(figsize = (9,5))\n",
    "sns.barplot(x = sentiment_distribution.index,\n",
    "y = sentiment_distribution.values)\n",
    "plt.title('Distribution of Sentiments')\n",
    "plt.xlabel('Sentiment')\n",
    "plt.ylabel('Count')"
   ]
  },
  {
   "cell_type": "code",
   "execution_count": null,
   "id": "9b09d18c",
   "metadata": {},
   "outputs": [],
   "source": []
  }
 ],
 "metadata": {
  "kernelspec": {
   "display_name": "Python 3 (ipykernel)",
   "language": "python",
   "name": "python3"
  },
  "language_info": {
   "codemirror_mode": {
    "name": "ipython",
    "version": 3
   },
   "file_extension": ".py",
   "mimetype": "text/x-python",
   "name": "python",
   "nbconvert_exporter": "python",
   "pygments_lexer": "ipython3",
   "version": "3.11.5"
  }
 },
 "nbformat": 4,
 "nbformat_minor": 5
}
